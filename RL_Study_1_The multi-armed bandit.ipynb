{
 "cells": [
  {
   "cell_type": "markdown",
   "metadata": {},
   "source": [
    "## The multi-armed bandit\n",
    "In this workbook, I will follow the tutorial built by Arthur Juliani to build build a policy-gradient based agent that can solve the multi-armed bandit problem."
   ]
  },
  {
   "cell_type": "code",
   "execution_count": 1,
   "metadata": {
    "collapsed": true
   },
   "outputs": [],
   "source": [
    "import tensorflow as tf \n",
    "import numpy as np"
   ]
  },
  {
   "cell_type": "markdown",
   "metadata": {},
   "source": [
    "# The Bandits\n",
    "We define our bandits. For this example we are using a four-armed bandit. The pullBandit function generates a random number from a normal distribution with a mean of 0. THe loer the bandit number, the more likely a positive reward will be returned. We want our agent to learn to always choose the bandit that will give that positive reward"
   ]
  },
  {
   "cell_type": "code",
   "execution_count": 5,
   "metadata": {
    "collapsed": true
   },
   "outputs": [],
   "source": [
    "# Define Bandits \n",
    "bandits = [0.2 , 0, -0.2, -5]\n",
    "num_bandits = len(bandits)\n",
    "# Define a function to perform \"Pull Bandits\"\n",
    "def pullBandit(bandit):\n",
    "    # Get a random pull number\n",
    "    result = np.random.randn(1)\n",
    "    if result > bandit:\n",
    "    # Return a positive reward.\n",
    "        return 1\n",
    "    else:\n",
    "        return -1\n",
    "    "
   ]
  },
  {
   "cell_type": "markdown",
   "metadata": {},
   "source": [
    "## The Agent\n",
    "In the following section, we will a simple neural agent. It consists of a set of values for each of the bandits. Each value is an estimate of the value of the return from choosing the bandit. We use a policy gradient methond to update the agent by moving the value for the selected action toward the recived reward."
   ]
  },
  {
   "cell_type": "code",
   "execution_count": 14,
   "metadata": {},
   "outputs": [],
   "source": [
    "tf.reset_default_graph()\n",
    "\n",
    "# Define weight and threshold to choose action \n",
    "weights = tf.Variable(tf.ones([num_bandits]))\n",
    "chosen_action = tf.argmax(weights, 0)\n",
    "\n",
    "# define tensor for reward and action \n",
    "reward_holder = tf.placeholder(shape=[1], dtype=tf.float32)\n",
    "action_holder = tf.placeholder(shape=[1], dtype=tf.int32)\n",
    "\n",
    "# define corresponding weight\n",
    "responsible_weight = tf.slice(weights, action_holder,[1])\n",
    "loss = -(tf.log(responsible_weight) * reward_holder)\n",
    "optimizer = tf.train.GradientDescentOptimizer(learning_rate = 0.001)\n",
    "update = optimizer.minimize(loss)"
   ]
  },
  {
   "cell_type": "markdown",
   "metadata": {},
   "source": [
    "## The Agent Train"
   ]
  },
  {
   "cell_type": "code",
   "execution_count": 15,
   "metadata": {},
   "outputs": [
    {
     "name": "stdout",
     "output_type": "stream",
     "text": [
      "Running reward for the 4 bandits: [-1.  0.  0.  0.]\n",
      "Running reward for the 4 bandits: [  0.  -2.  -1.  40.]\n",
      "Running reward for the 4 bandits: [ -1.  -3.   0.  87.]\n",
      "Running reward for the 4 bandits: [  -1.   -5.    1.  132.]\n",
      "Running reward for the 4 bandits: [  -1.   -5.    2.  177.]\n",
      "Running reward for the 4 bandits: [  -1.   -5.    3.  226.]\n",
      "Running reward for the 4 bandits: [  -1.   -5.    4.  273.]\n",
      "Running reward for the 4 bandits: [   1.   -5.    6.  317.]\n",
      "Running reward for the 4 bandits: [   2.   -4.    6.  365.]\n",
      "Running reward for the 4 bandits: [   2.   -5.    6.  410.]\n",
      "Running reward for the 4 bandits: [   3.   -5.    7.  458.]\n",
      "Running reward for the 4 bandits: [   2.   -5.    8.  506.]\n",
      "Running reward for the 4 bandits: [   2.   -4.    9.  550.]\n",
      "Running reward for the 4 bandits: [   2.   -4.   10.  597.]\n",
      "Running reward for the 4 bandits: [   0.   -6.   10.  643.]\n",
      "Running reward for the 4 bandits: [   0.   -3.   12.  686.]\n",
      "Running reward for the 4 bandits: [   0.   -3.   12.  736.]\n",
      "Running reward for the 4 bandits: [  -3.   -3.   13.  782.]\n",
      "Running reward for the 4 bandits: [  -1.   -3.   12.  829.]\n",
      "Running reward for the 4 bandits: [  -1.   -3.   13.  878.]\n",
      "The agent thinks bandit 4 is the most promising....\n",
      "...and it was right!\n"
     ]
    }
   ],
   "source": [
    "total_epoc = 1000 # Set total number of epo to train agent on\n",
    "total_reward = np.zeros(num_bandits) # Set Scoreboard for bandits to 0.\n",
    "e = 0.1 #Set the change of taking a random action\n",
    "\n",
    "init = tf.global_variables_initializer()\n",
    "with tf.Session() as sess:\n",
    "    sess.run(init)\n",
    "    i = 0 \n",
    "    while i < total_epoc:\n",
    "        \n",
    "        # Choose either a random action or one from the network\n",
    "        if np.random.rand(1) < e:\n",
    "            action = np.random.randint(num_bandits)\n",
    "        else:\n",
    "            action = sess.run(chosen_action)\n",
    "        \n",
    "        # Get reward from the selected bandits\n",
    "        reward = pullBandit(bandits[action]) \n",
    "        \n",
    "        # update the network\n",
    "        _,resp, ww = sess.run([update,responsible_weight, weights], feed_dict={reward_holder: [reward], action_holder: [action]})\n",
    "        \n",
    "        # Update the reward \n",
    "        total_reward[action] += reward\n",
    "        \n",
    "        if i % 50 == 0:\n",
    "            print (\"Running reward for the \" + str(num_bandits) + \" bandits: \" + str(total_reward))\n",
    "        i+=1\n",
    "print (\"The agent thinks bandit \" + str(np.argmax(ww)+1) + \" is the most promising....\")\n",
    "if np.argmax(ww) == np.argmax(-np.array(bandits)):\n",
    "    print (\"...and it was right!\")\n",
    "else:\n",
    "    print (\"...and it was wrong!\")\n",
    "        "
   ]
  },
  {
   "cell_type": "code",
   "execution_count": null,
   "metadata": {
    "collapsed": true
   },
   "outputs": [],
   "source": []
  }
 ],
 "metadata": {
  "kernelspec": {
   "display_name": "Python 3",
   "language": "python",
   "name": "python3"
  },
  "language_info": {
   "codemirror_mode": {
    "name": "ipython",
    "version": 3
   },
   "file_extension": ".py",
   "mimetype": "text/x-python",
   "name": "python",
   "nbconvert_exporter": "python",
   "pygments_lexer": "ipython3",
   "version": "3.6.3"
  }
 },
 "nbformat": 4,
 "nbformat_minor": 2
}
